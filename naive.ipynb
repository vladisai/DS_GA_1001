{
 "cells": [
  {
   "cell_type": "code",
   "execution_count": null,
   "metadata": {
    "scrolled": true
   },
   "outputs": [],
   "source": [
    "import os\n",
    "from glob import glob\n",
    "import numpy as np\n",
    "\n",
    "train_data_path = 'dataset/train/'\n",
    "test_data_path = 'dataset/test/'"
   ]
  },
  {
   "cell_type": "code",
   "execution_count": null,
   "metadata": {
    "scrolled": true
   },
   "outputs": [],
   "source": [
    "def load_folder(path):\n",
    "    pattern = os.path.join(path, '*.pose.npy')\n",
    "    pose_paths = glob(pattern)\n",
    "    result = []\n",
    "    for pose_path in pose_paths:\n",
    "        face_path = pose_path.replace('pose', 'face')\n",
    "        try:\n",
    "            pose = np.load(pose_path)[0]#[[0, 1, 2, 5, 15, 16, 17, 18]]\n",
    "            pose = pose.flatten()\n",
    "            face = np.load(face_path)[0].flatten()\n",
    "            joined = np.concatenate([pose, face])\n",
    "            result.append(joined)\n",
    "        except:\n",
    "            print(pose_path, 'seems to contain bad data:', np.load(pose_path))\n",
    "    prev_shape = None\n",
    "    for x in result:\n",
    "        prev_shape = x.shape\n",
    "    return np.stack(result, axis=0)\n",
    "              \n",
    "def load_dataset(data_path):\n",
    "    good_examples_path = os.path.join(data_path, 'Good')\n",
    "    bad_examples_path = os.path.join(data_path, 'Bad')\n",
    "    good = load_folder(good_examples_path)\n",
    "    good_Y = np.ones(good.shape[0])\n",
    "    bad = load_folder(bad_examples_path)\n",
    "    bad_Y = np.zeros(bad.shape[0])\n",
    "    X = np.concatenate([good, bad], axis=0)\n",
    "    Y = np.concatenate([good_Y, bad_Y], axis=0)\n",
    "    return X, Y\n",
    "    \n",
    "X, Y = load_dataset(train_data_path)\n",
    "print(X.shape, Y.shape)\n",
    "X_test, Y_test = load_dataset(test_data_path)\n",
    "print(X_test.shape, Y_test.shape)"
   ]
  },
  {
   "cell_type": "code",
   "execution_count": null,
   "metadata": {
    "scrolled": true
   },
   "outputs": [],
   "source": [
    "mean = X.mean(axis=0)\n",
    "std = X.std(axis=0)\n",
    "std[std < 1e-5] = 1\n",
    "X -= mean\n",
    "X /= std\n",
    "X_test -= mean\n",
    "X_test /= std"
   ]
  },
  {
   "cell_type": "code",
   "execution_count": null,
   "metadata": {
    "scrolled": true
   },
   "outputs": [],
   "source": [
    "import sklearn\n",
    "import sklearn.linear_model\n",
    "import sklearn.svm\n",
    "\n",
    "#model = sklearn.linear_model.LogisticRegression(max_iter=1000)\n",
    "model = sklearn.svm.SVC(probability=True)"
   ]
  },
  {
   "cell_type": "code",
   "execution_count": null,
   "metadata": {
    "scrolled": true
   },
   "outputs": [],
   "source": [
    "model.fit(X, Y)"
   ]
  },
  {
   "cell_type": "code",
   "execution_count": null,
   "metadata": {
    "scrolled": true
   },
   "outputs": [],
   "source": [
    "Y_pred = model.predict(X_test)"
   ]
  },
  {
   "cell_type": "code",
   "execution_count": null,
   "metadata": {
    "scrolled": true
   },
   "outputs": [],
   "source": [
    "import sklearn.metrics\n",
    "sklearn.metrics.accuracy_score(Y_pred, Y_test)"
   ]
  },
  {
   "cell_type": "code",
   "execution_count": null,
   "metadata": {
    "scrolled": false
   },
   "outputs": [],
   "source": [
    "Y_test.sum() / Y_test.shape[0]"
   ]
  },
  {
   "cell_type": "code",
   "execution_count": null,
   "metadata": {
    "scrolled": true
   },
   "outputs": [],
   "source": [
    "def get_roc_auc(model, x_test, y_test):\n",
    "    y_pred = model.predict_proba(x_test)[:, 1]\n",
    "    roc = sklearn.metrics.roc_curve(y_test, y_pred)\n",
    "    auc = sklearn.metrics.auc(roc[0], roc[1])\n",
    "    return roc, auc"
   ]
  },
  {
   "cell_type": "code",
   "execution_count": null,
   "metadata": {
    "scrolled": true
   },
   "outputs": [],
   "source": [
    "roc, auc = get_roc_auc(model, X_test, Y_test)"
   ]
  },
  {
   "cell_type": "code",
   "execution_count": null,
   "metadata": {
    "scrolled": true
   },
   "outputs": [],
   "source": [
    "import matplotlib.pyplot as plt\n",
    "\n",
    "plt.plot(roc[0], roc[1],\n",
    "         lw=2, label='ROC curve (area = %0.2f)' % (auc))\n",
    "plt.legend()"
   ]
  },
  {
   "cell_type": "code",
   "execution_count": null,
   "metadata": {
    "scrolled": true
   },
   "outputs": [],
   "source": []
  },
  {
   "cell_type": "code",
   "execution_count": null,
   "metadata": {
    "scrolled": true
   },
   "outputs": [],
   "source": []
  }
 ],
 "metadata": {
  "kernelspec": {
   "display_name": "Python 3",
   "language": "python",
   "name": "python3"
  },
  "language_info": {
   "codemirror_mode": {
    "name": "ipython",
    "version": 3
   },
   "file_extension": ".py",
   "mimetype": "text/x-python",
   "name": "python",
   "nbconvert_exporter": "python",
   "pygments_lexer": "ipython3",
   "version": "3.7.4"
  }
 },
 "nbformat": 4,
 "nbformat_minor": 2
}
